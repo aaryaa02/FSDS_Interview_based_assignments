{
 "cells": [
  {
   "cell_type": "code",
   "execution_count": 1,
   "metadata": {},
   "outputs": [],
   "source": [
    "import pandas as pd\n",
    "import numpy as np\n",
    "from scipy import stats"
   ]
  },
  {
   "cell_type": "code",
   "execution_count": 2,
   "metadata": {},
   "outputs": [
    {
     "name": "stdout",
     "output_type": "stream",
     "text": [
      "Index(['Patient ID', 'Blood Pressure Before (mmHg)',\n",
      "       'Blood Pressure After (mmHg)'],\n",
      "      dtype='object')\n"
     ]
    }
   ],
   "source": [
    "# Read the data from a CSV file\n",
    "data = pd.read_csv('Q3_Data.csv')\n",
    "\n",
    "# Remove leading/trailing spaces from column names\n",
    "data.columns = data.columns.str.strip()\n",
    "\n",
    "# Check the modified column names\n",
    "print(data.columns)"
   ]
  },
  {
   "attachments": {},
   "cell_type": "markdown",
   "metadata": {},
   "source": [
    "## a. Measure the dispersion in both columns"
   ]
  },
  {
   "cell_type": "code",
   "execution_count": 3,
   "metadata": {},
   "outputs": [
    {
     "name": "stdout",
     "output_type": "stream",
     "text": [
      "Dispersion (Variance) of Blood Pressure Before: 43.10\n",
      "Dispersion (Variance) of Blood Pressure After: 46.97\n",
      "\n"
     ]
    }
   ],
   "source": [
    "dispersion_before = np.var(data['Blood Pressure Before (mmHg)'])\n",
    "dispersion_after = np.var(data['Blood Pressure After (mmHg)'])\n",
    "print(\"Dispersion (Variance) of Blood Pressure Before: {:.2f}\".format(dispersion_before))\n",
    "print(\"Dispersion (Variance) of Blood Pressure After: {:.2f}\".format(dispersion_after))\n",
    "print()\n"
   ]
  },
  {
   "attachments": {},
   "cell_type": "markdown",
   "metadata": {},
   "source": [
    "## b. Calculate mean and 5% confidence interval"
   ]
  },
  {
   "cell_type": "code",
   "execution_count": 4,
   "metadata": {},
   "outputs": [
    {
     "name": "stdout",
     "output_type": "stream",
     "text": [
      "Mean of Blood Pressure Before: 133.91\n",
      "Confidence Interval (95%) of Blood Pressure Before: (132.61676127359584, 135.20323872640415)\n",
      "\n",
      "Mean of Blood Pressure After: 128.36\n",
      "Confidence Interval (95%) of Blood Pressure After: (127.00997247543387, 129.71002752456616)\n",
      "\n"
     ]
    }
   ],
   "source": [
    "mean_before = np.mean(data['Blood Pressure Before (mmHg)'])\n",
    "mean_after = np.mean(data['Blood Pressure After (mmHg)'])\n",
    "confidence_interval_before = stats.norm.interval(0.95, loc=mean_before, scale=stats.sem(data['Blood Pressure Before (mmHg)']))\n",
    "confidence_interval_after = stats.norm.interval(0.95, loc=mean_after, scale=stats.sem(data['Blood Pressure After (mmHg)']))\n",
    "\n",
    "print(\"Mean of Blood Pressure Before: {:.2f}\".format(mean_before))\n",
    "print(\"Confidence Interval (95%) of Blood Pressure Before:\", confidence_interval_before)\n",
    "print()\n",
    "print(\"Mean of Blood Pressure After: {:.2f}\".format(mean_after))\n",
    "print(\"Confidence Interval (95%) of Blood Pressure After:\", confidence_interval_after)\n",
    "print()\n",
    "\n"
   ]
  },
  {
   "attachments": {},
   "cell_type": "markdown",
   "metadata": {},
   "source": [
    "## c. Calculate Mean Absolute Deviation (MAD) and Standard Deviation (SD)"
   ]
  },
  {
   "cell_type": "code",
   "execution_count": 7,
   "metadata": {},
   "outputs": [
    {
     "name": "stdout",
     "output_type": "stream",
     "text": [
      "Mean Absolute Deviation (MAD) of Blood Pressure Before: 5.71\n",
      "Mean Absolute Deviation (MAD) of Blood Pressure After: 5.90\n",
      "\n",
      "Standard Deviation (SD) of Blood Pressure Before: 6.57\n",
      "Standard Deviation (SD) of Blood Pressure After: 6.85\n",
      "\n"
     ]
    }
   ],
   "source": [
    "mad_before = np.mean(np.abs(data['Blood Pressure Before (mmHg)'] - mean_before))\n",
    "mad_after = np.mean(np.abs(data['Blood Pressure After (mmHg)'] - mean_after))\n",
    "sd_before = np.std(data['Blood Pressure Before (mmHg)'])\n",
    "sd_after = np.std(data['Blood Pressure After (mmHg)'])\n",
    "\n",
    "print(\"Mean Absolute Deviation (MAD) of Blood Pressure Before: {:.2f}\".format(mad_before))\n",
    "print(\"Mean Absolute Deviation (MAD) of Blood Pressure After: {:.2f}\".format(mad_after))\n",
    "print()\n",
    "print(\"Standard Deviation (SD) of Blood Pressure Before: {:.2f}\".format(sd_before))\n",
    "print(\"Standard Deviation (SD) of Blood Pressure After: {:.2f}\".format(sd_after))\n",
    "print()\n",
    "\n"
   ]
  },
  {
   "attachments": {},
   "cell_type": "markdown",
   "metadata": {},
   "source": [
    "## d. Calculate the correlation coefficient and significance level"
   ]
  },
  {
   "cell_type": "code",
   "execution_count": 8,
   "metadata": {},
   "outputs": [
    {
     "name": "stdout",
     "output_type": "stream",
     "text": [
      "Correlation Coefficient: 0.98\n",
      "p-value: 0.0000\n",
      "Correlation is significant at the 1% level.\n"
     ]
    }
   ],
   "source": [
    "correlation_coefficient, p_value = stats.pearsonr(data['Blood Pressure Before (mmHg)'], data['Blood Pressure After (mmHg)'])\n",
    "significance_level = 0.01\n",
    "\n",
    "print(\"Correlation Coefficient: {:.2f}\".format(correlation_coefficient))\n",
    "print(\"p-value: {:.4f}\".format(p_value))\n",
    "if p_value < significance_level:\n",
    "    print(\"Correlation is significant at the 1% level.\")\n",
    "else:\n",
    "    print(\"Correlation is not significant at the 1% level.\")\n"
   ]
  },
  {
   "cell_type": "code",
   "execution_count": null,
   "metadata": {},
   "outputs": [],
   "source": []
  }
 ],
 "metadata": {
  "kernelspec": {
   "display_name": "Python 3",
   "language": "python",
   "name": "python3"
  },
  "language_info": {
   "codemirror_mode": {
    "name": "ipython",
    "version": 3
   },
   "file_extension": ".py",
   "mimetype": "text/x-python",
   "name": "python",
   "nbconvert_exporter": "python",
   "pygments_lexer": "ipython3",
   "version": "3.10.11"
  },
  "orig_nbformat": 4
 },
 "nbformat": 4,
 "nbformat_minor": 2
}
